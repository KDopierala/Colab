{
  "nbformat": 4,
  "nbformat_minor": 0,
  "metadata": {
    "colab": {
      "name": "Lab2.ipynb",
      "provenance": [],
      "collapsed_sections": [
        "rAm5tIrYcbXw",
        "bp7A1QRdciBJ",
        "8K7nV70desxk",
        "l-52IZnuiuNX",
        "doNjP0ZTnQfK",
        "6XKqisH0nd_r"
      ],
      "authorship_tag": "ABX9TyPLGKK0PmosVCO09bALt7Qc",
      "include_colab_link": true
    },
    "kernelspec": {
      "name": "python3",
      "display_name": "Python 3"
    },
    "language_info": {
      "name": "python"
    }
  },
  "cells": [
    {
      "cell_type": "markdown",
      "metadata": {
        "id": "view-in-github",
        "colab_type": "text"
      },
      "source": [
        "<a href=\"https://colab.research.google.com/github/KDopierala/Colab/blob/main/Lab2.ipynb\" target=\"_parent\"><img src=\"https://colab.research.google.com/assets/colab-badge.svg\" alt=\"Open In Colab\"/></a>"
      ]
    },
    {
      "cell_type": "markdown",
      "source": [
        "## Zad 1"
      ],
      "metadata": {
        "id": "rAm5tIrYcbXw"
      }
    },
    {
      "cell_type": "code",
      "execution_count": 3,
      "metadata": {
        "colab": {
          "base_uri": "https://localhost:8080/"
        },
        "id": "av2NHzjZUiC1",
        "outputId": "aa4c7601-2090-43c0-a97d-f8bf7646fa34"
      },
      "outputs": [
        {
          "output_type": "stream",
          "name": "stdout",
          "text": [
            "Hello world!\n"
          ]
        }
      ],
      "source": [
        "#@title String fields\n",
        "\n",
        "text = 'Hello world!' #@param {type:\"string\"}\n",
        "\n",
        "print(text)"
      ]
    },
    {
      "cell_type": "markdown",
      "source": [
        "## Zad 2"
      ],
      "metadata": {
        "id": "bp7A1QRdciBJ"
      }
    },
    {
      "cell_type": "code",
      "source": [
        "import this"
      ],
      "metadata": {
        "colab": {
          "base_uri": "https://localhost:8080/"
        },
        "id": "pUVN7HfvcDHe",
        "outputId": "73c9a160-43be-4e84-9f7c-916366a03fdb"
      },
      "execution_count": 2,
      "outputs": [
        {
          "output_type": "stream",
          "name": "stdout",
          "text": [
            "The Zen of Python, by Tim Peters\n",
            "\n",
            "Beautiful is better than ugly.\n",
            "Explicit is better than implicit.\n",
            "Simple is better than complex.\n",
            "Complex is better than complicated.\n",
            "Flat is better than nested.\n",
            "Sparse is better than dense.\n",
            "Readability counts.\n",
            "Special cases aren't special enough to break the rules.\n",
            "Although practicality beats purity.\n",
            "Errors should never pass silently.\n",
            "Unless explicitly silenced.\n",
            "In the face of ambiguity, refuse the temptation to guess.\n",
            "There should be one-- and preferably only one --obvious way to do it.\n",
            "Although that way may not be obvious at first unless you're Dutch.\n",
            "Now is better than never.\n",
            "Although never is often better than *right* now.\n",
            "If the implementation is hard to explain, it's a bad idea.\n",
            "If the implementation is easy to explain, it may be a good idea.\n",
            "Namespaces are one honking great idea -- let's do more of those!\n"
          ]
        }
      ]
    },
    {
      "cell_type": "markdown",
      "source": [
        "## Zad 3"
      ],
      "metadata": {
        "id": "8K7nV70desxk"
      }
    },
    {
      "cell_type": "code",
      "source": [
        "#@title String fields\n",
        "\n",
        "a = 2 #@param {type:\"integer\"}\n",
        "b = 3 #@param {type:\"integer\"}\n",
        "\n",
        "print(f\"Wynik dodawania: {a+b}\")\n",
        "print(f\"Wynik odejmowania: {a-b}\")\n",
        "print(f\"Wynik dzielenia: {a/b}\")\n",
        "print(f\"Wynik mnożenia: {a*b}\")\n",
        "print(f\"Wynik potęgowania a do b: {a**b}\")"
      ],
      "metadata": {
        "colab": {
          "base_uri": "https://localhost:8080/"
        },
        "id": "ReiG4dq_cpIO",
        "outputId": "5e4a83ac-9042-47f5-fa46-a23f3d9a40de"
      },
      "execution_count": 6,
      "outputs": [
        {
          "output_type": "stream",
          "name": "stdout",
          "text": [
            "Wynik dodawania: 5\n",
            "Wynik odejmowania: -1\n",
            "Wynik dzielenia: 0.6666666666666666\n",
            "Wynik mnożenia: 6\n",
            "Wynik potęgowania a do b: 8\n"
          ]
        }
      ]
    },
    {
      "cell_type": "markdown",
      "source": [
        "## Zad 4"
      ],
      "metadata": {
        "id": "l-52IZnuiuNX"
      }
    },
    {
      "cell_type": "code",
      "source": [
        "a=range(1 , 10 )\n",
        "a=range(1 , 10, 0.1 )\n",
        "c=[]"
      ],
      "metadata": {
        "id": "gjqiTGCQioz4"
      },
      "execution_count": null,
      "outputs": []
    },
    {
      "cell_type": "markdown",
      "source": [
        "## Zad 5"
      ],
      "metadata": {
        "id": "doNjP0ZTnQfK"
      }
    },
    {
      "cell_type": "code",
      "source": [
        "import this\n",
        "import codecs\n",
        "\n",
        "zen_of_python = codecs.encode(this.s, 'rot13')\n",
        "print(zen_of_python.upper())"
      ],
      "metadata": {
        "colab": {
          "base_uri": "https://localhost:8080/"
        },
        "id": "5cbYrDGzlIBK",
        "outputId": "b8d346ab-a25c-436a-e502-cddce0aa4bee"
      },
      "execution_count": 11,
      "outputs": [
        {
          "output_type": "stream",
          "name": "stdout",
          "text": [
            "THE ZEN OF PYTHON, BY TIM PETERS\n",
            "\n",
            "BEAUTIFUL IS BETTER THAN UGLY.\n",
            "EXPLICIT IS BETTER THAN IMPLICIT.\n",
            "SIMPLE IS BETTER THAN COMPLEX.\n",
            "COMPLEX IS BETTER THAN COMPLICATED.\n",
            "FLAT IS BETTER THAN NESTED.\n",
            "SPARSE IS BETTER THAN DENSE.\n",
            "READABILITY COUNTS.\n",
            "SPECIAL CASES AREN'T SPECIAL ENOUGH TO BREAK THE RULES.\n",
            "ALTHOUGH PRACTICALITY BEATS PURITY.\n",
            "ERRORS SHOULD NEVER PASS SILENTLY.\n",
            "UNLESS EXPLICITLY SILENCED.\n",
            "IN THE FACE OF AMBIGUITY, REFUSE THE TEMPTATION TO GUESS.\n",
            "THERE SHOULD BE ONE-- AND PREFERABLY ONLY ONE --OBVIOUS WAY TO DO IT.\n",
            "ALTHOUGH THAT WAY MAY NOT BE OBVIOUS AT FIRST UNLESS YOU'RE DUTCH.\n",
            "NOW IS BETTER THAN NEVER.\n",
            "ALTHOUGH NEVER IS OFTEN BETTER THAN *RIGHT* NOW.\n",
            "IF THE IMPLEMENTATION IS HARD TO EXPLAIN, IT'S A BAD IDEA.\n",
            "IF THE IMPLEMENTATION IS EASY TO EXPLAIN, IT MAY BE A GOOD IDEA.\n",
            "NAMESPACES ARE ONE HONKING GREAT IDEA -- LET'S DO MORE OF THOSE!\n"
          ]
        }
      ]
    },
    {
      "cell_type": "markdown",
      "source": [
        "## Zad 6"
      ],
      "metadata": {
        "id": "6XKqisH0nd_r"
      }
    },
    {
      "cell_type": "code",
      "source": [
        "import this\n",
        "import codecs\n",
        "\n",
        "zen_of_python = codecs.encode(this.s, 'rot13')\n",
        "print(zen_of_python.title())"
      ],
      "metadata": {
        "colab": {
          "base_uri": "https://localhost:8080/"
        },
        "id": "tVvpKawdnXaT",
        "outputId": "d7dfbf7b-4501-4c18-bc99-293b8c8d1301"
      },
      "execution_count": 12,
      "outputs": [
        {
          "output_type": "stream",
          "name": "stdout",
          "text": [
            "The Zen Of Python, By Tim Peters\n",
            "\n",
            "Beautiful Is Better Than Ugly.\n",
            "Explicit Is Better Than Implicit.\n",
            "Simple Is Better Than Complex.\n",
            "Complex Is Better Than Complicated.\n",
            "Flat Is Better Than Nested.\n",
            "Sparse Is Better Than Dense.\n",
            "Readability Counts.\n",
            "Special Cases Aren'T Special Enough To Break The Rules.\n",
            "Although Practicality Beats Purity.\n",
            "Errors Should Never Pass Silently.\n",
            "Unless Explicitly Silenced.\n",
            "In The Face Of Ambiguity, Refuse The Temptation To Guess.\n",
            "There Should Be One-- And Preferably Only One --Obvious Way To Do It.\n",
            "Although That Way May Not Be Obvious At First Unless You'Re Dutch.\n",
            "Now Is Better Than Never.\n",
            "Although Never Is Often Better Than *Right* Now.\n",
            "If The Implementation Is Hard To Explain, It'S A Bad Idea.\n",
            "If The Implementation Is Easy To Explain, It May Be A Good Idea.\n",
            "Namespaces Are One Honking Great Idea -- Let'S Do More Of Those!\n"
          ]
        }
      ]
    },
    {
      "cell_type": "markdown",
      "source": [
        "## Zad 7"
      ],
      "metadata": {
        "id": "7fCr4LvRo737"
      }
    },
    {
      "cell_type": "code",
      "source": [
        "import this\n",
        "import codecs\n",
        "\n",
        "zen_of_python = codecs.encode(this.s, 'rot13')\n",
        "new_zen = zen_of_python.replace(\" \",\"\")\n",
        "print(new_zen)"
      ],
      "metadata": {
        "colab": {
          "base_uri": "https://localhost:8080/"
        },
        "id": "1tGTWBFJoEMm",
        "outputId": "61f8e679-600b-4e42-98e4-be9e806c8952"
      },
      "execution_count": 16,
      "outputs": [
        {
          "output_type": "stream",
          "name": "stdout",
          "text": [
            "TheZenofPython,byTimPeters\n",
            "\n",
            "Beautifulisbetterthanugly.\n",
            "Explicitisbetterthanimplicit.\n",
            "Simpleisbetterthancomplex.\n",
            "Complexisbetterthancomplicated.\n",
            "Flatisbetterthannested.\n",
            "Sparseisbetterthandense.\n",
            "Readabilitycounts.\n",
            "Specialcasesaren'tspecialenoughtobreaktherules.\n",
            "Althoughpracticalitybeatspurity.\n",
            "Errorsshouldneverpasssilently.\n",
            "Unlessexplicitlysilenced.\n",
            "Inthefaceofambiguity,refusethetemptationtoguess.\n",
            "Thereshouldbeone--andpreferablyonlyone--obviouswaytodoit.\n",
            "Althoughthatwaymaynotbeobviousatfirstunlessyou'reDutch.\n",
            "Nowisbetterthannever.\n",
            "Althoughneverisoftenbetterthan*right*now.\n",
            "Iftheimplementationishardtoexplain,it'sabadidea.\n",
            "Iftheimplementationiseasytoexplain,itmaybeagoodidea.\n",
            "Namespacesareonehonkinggreatidea--let'sdomoreofthose!\n"
          ]
        }
      ]
    },
    {
      "cell_type": "code",
      "source": [
        "number = 255 #@param {type:\"integer\"}\n",
        "\n",
        "print(f\"liczba {number} w postaci szesnastkowej: {hex(number)[2:]}\")\n",
        "print(f\"liczba {number} w postaci ósemkowej: {oct(number)[2:]}\")\n",
        "print(f\"liczba {number} w postaci dwójkowej: {bin(number)[2:]}\")"
      ],
      "metadata": {
        "colab": {
          "base_uri": "https://localhost:8080/"
        },
        "id": "w-kbFzE_pxcl",
        "outputId": "5797cb9a-989b-435d-c51a-fc5d672734fc"
      },
      "execution_count": 22,
      "outputs": [
        {
          "output_type": "stream",
          "name": "stdout",
          "text": [
            "liczba 255 w postaci szesnastkowej: ff\n",
            "liczba 255 w postaci ósemkowej: 377\n",
            "liczba 255 w postaci dwójkowej: 11111111\n"
          ]
        }
      ]
    }
  ]
}